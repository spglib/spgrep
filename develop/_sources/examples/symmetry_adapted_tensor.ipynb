{
 "cells": [
  {
   "cell_type": "markdown",
   "metadata": {},
   "source": [
    "# Symmetry-adapted tensor\n",
    "\n",
    "This example shows how to calculate irreps of crystallographic point groups and construct projection operator on identity representation.\n",
    "We apply the projection operator to obtaining symmetry-adapted tensor (e.g. elastic constant)."
   ]
  },
  {
   "cell_type": "markdown",
   "metadata": {},
   "source": [
    "## Import modules"
   ]
  },
  {
   "cell_type": "code",
   "execution_count": 1,
   "metadata": {},
   "outputs": [
    {
     "name": "stdout",
     "output_type": "stream",
     "text": [
      "spgrep==0.3.2.dev5+ga44d231\n"
     ]
    }
   ],
   "source": [
    "from __future__ import annotations\n",
    "\n",
    "import matplotlib.pyplot as plt\n",
    "import numpy as np\n",
    "import seaborn as sns\n",
    "from spglib import get_symmetry_from_database\n",
    "\n",
    "import spgrep\n",
    "from spgrep import get_crystallographic_pointgroup_irreps_from_symmetry\n",
    "from spgrep.group import get_cayley_table\n",
    "from spgrep.representation import is_representation, project_to_irrep\n",
    "from spgrep.tensor import get_symmetry_adapted_tensors, apply_intrinsic_symmetry\n",
    "\n",
    "print(f\"spgrep=={spgrep.__version__}\")"
   ]
  },
  {
   "cell_type": "code",
   "execution_count": 2,
   "metadata": {},
   "outputs": [],
   "source": [
    "sns.set_context(\"poster\")"
   ]
  },
  {
   "cell_type": "markdown",
   "metadata": {},
   "source": [
    "## Prepare point-group operations and representation\n",
    "\n",
    "We consider crystallographic point group $m\\overline{3}m$."
   ]
  },
  {
   "cell_type": "code",
   "execution_count": 3,
   "metadata": {},
   "outputs": [],
   "source": [
    "# Pm-3m (No. 221)\n",
    "symmetry = get_symmetry_from_database(hall_number=517)\n",
    "rotations = symmetry[\"rotations\"]  # (48, 3, 3)"
   ]
  },
  {
   "cell_type": "markdown",
   "metadata": {},
   "source": [
    "Then, we define basis of strain tensors in Voigt order:\n",
    "\n",
    "$$\n",
    "    \\mathbf{E}_{1} =\n",
    "        \\begin{pmatrix}\n",
    "            1 & 0 & 0 \\\\\n",
    "            0 & 0 & 0 \\\\\n",
    "            0 & 0 & 0 \\\\\n",
    "        \\end{pmatrix},\n",
    "    \\mathbf{E}_{2} =\n",
    "        \\begin{pmatrix}\n",
    "            0 & 0 & 0 \\\\\n",
    "            0 & 1 & 0 \\\\\n",
    "            0 & 0 & 0 \\\\\n",
    "        \\end{pmatrix},\n",
    "    \\mathbf{E}_{3} =\n",
    "        \\begin{pmatrix}\n",
    "            0 & 0 & 0 \\\\\n",
    "            0 & 0 & 0 \\\\\n",
    "            0 & 0 & 1 \\\\\n",
    "        \\end{pmatrix},\n",
    "    \\mathbf{E}_{4} =\n",
    "        \\frac{1}{\\sqrt{2}}\n",
    "        \\begin{pmatrix}\n",
    "            0 & 0 & 0 \\\\\n",
    "            0 & 0 & 1 \\\\\n",
    "            0 & 1 & 0 \\\\\n",
    "        \\end{pmatrix},\n",
    "    \\mathbf{E}_{5} =\n",
    "        \\frac{1}{\\sqrt{2}}\n",
    "        \\begin{pmatrix}\n",
    "            0 & 0 & 1 \\\\\n",
    "            0 & 0 & 0 \\\\\n",
    "            1 & 0 & 0 \\\\\n",
    "        \\end{pmatrix},\n",
    "    \\mathbf{E}_{6} =\n",
    "        \\frac{1}{\\sqrt{2}}\n",
    "        \\begin{pmatrix}\n",
    "            0 & 1 & 0 \\\\\n",
    "            1 & 0 & 0 \\\\\n",
    "            0 & 0 & 0 \\\\\n",
    "        \\end{pmatrix}.\n",
    "$$\n",
    "\n",
    "A rotation $R$ in point group $\\mathcal{P}$ acts the basis of strain tensors as\n",
    "\n",
    "$$\n",
    "    R \\mathbf{E}_{j} := \\mathbf{R} \\mathbf{E}_{j} \\mathbf{R}^{\\top} \\quad (R \\in \\mathcal{P}),\n",
    "$$\n",
    "\n",
    "where $\\mathbf{R}$ is a matrix representation of rotation $R$.\n",
    "We define a representation matrix for this action as\n",
    "\n",
    "$$\n",
    "    R \\mathbf{E}_{j} = \\sum_{i=1}^{6} \\mathbf{E}_{i} \\Gamma_{ij}(R).\n",
    "$$"
   ]
  },
  {
   "cell_type": "code",
   "execution_count": 4,
   "metadata": {},
   "outputs": [],
   "source": [
    "def get_standard_basis() -> list[np.ndarray]:\n",
    "    # Basis for symmetric matrix in Voigt order (xx, yy, zz, yz, zx, xy)\n",
    "    basis = [\n",
    "        np.array(\n",
    "            [\n",
    "                [1, 0, 0],\n",
    "                [0, 0, 0],\n",
    "                [0, 0, 0],\n",
    "            ],\n",
    "            dtype=np.float_,\n",
    "        ),\n",
    "        np.array(\n",
    "            [\n",
    "                [0, 0, 0],\n",
    "                [0, 1, 0],\n",
    "                [0, 0, 0],\n",
    "            ],\n",
    "            dtype=np.float_,\n",
    "        ),\n",
    "        np.array(\n",
    "            [\n",
    "                [0, 0, 0],\n",
    "                [0, 0, 0],\n",
    "                [0, 0, 1],\n",
    "            ],\n",
    "            dtype=np.float_,\n",
    "        ),\n",
    "        np.array(\n",
    "            [\n",
    "                [0, 0, 0],\n",
    "                [0, 0, 1],\n",
    "                [0, 1, 0],\n",
    "            ],\n",
    "            dtype=np.float_,\n",
    "        )\n",
    "        / np.sqrt(2),\n",
    "        np.array(\n",
    "            [\n",
    "                [0, 0, 1],\n",
    "                [0, 0, 0],\n",
    "                [1, 0, 0],\n",
    "            ],\n",
    "            dtype=np.float_,\n",
    "        )\n",
    "        / np.sqrt(2),\n",
    "        np.array(\n",
    "            [\n",
    "                [0, 1, 0],\n",
    "                [1, 0, 0],\n",
    "                [0, 0, 0],\n",
    "            ],\n",
    "            dtype=np.float_,\n",
    "        )\n",
    "        / np.sqrt(2),\n",
    "    ]\n",
    "    return basis\n",
    "\n",
    "\n",
    "def get_representation_on_symmetric_matrix(rotations: np.ndarray) -> np.ndarray:\n",
    "    # take [e_{1,1}, e_{2,2}, e_{3,3}, e_{2,3}, e_{3,1}, e_{1,2}] as basis\n",
    "    basis = get_standard_basis()\n",
    "    rep = np.zeros((len(rotations), len(basis), len(basis)))\n",
    "    for pos, rotation in enumerate(rotations):\n",
    "        for j, bj in enumerate(basis):\n",
    "            # operated = rotation.T @ bj @ rotation\n",
    "            operated = rotation @ bj @ rotation.T\n",
    "            for i, bi in enumerate(basis):\n",
    "                rep[pos, i, j] = np.sum(operated * bi) / np.sum(bi * bi)\n",
    "\n",
    "    # Sanity check if `rep` satisfy property of representation\n",
    "    table = get_cayley_table(rotations)\n",
    "    assert is_representation(rep, table)\n",
    "\n",
    "    return rep\n",
    "\n",
    "\n",
    "rep = get_representation_on_symmetric_matrix(rotations)"
   ]
  },
  {
   "cell_type": "markdown",
   "metadata": {},
   "source": [
    "Of course, the representation matrices are not block-diagonalized:"
   ]
  },
  {
   "cell_type": "code",
   "execution_count": 5,
   "metadata": {},
   "outputs": [
    {
     "data": {
      "image/png": "[encoded data removed]",
      "text/plain": [
       "<Figure size 1728x576 with 48 Axes>"
      ]
     },
     "metadata": {},
     "output_type": "display_data"
    }
   ],
   "source": [
    "nrows = 4\n",
    "ncols = 12\n",
    "fig, axes = plt.subplots(nrows, ncols, figsize=(2 * ncols, 2 * nrows))\n",
    "for row in range(nrows):\n",
    "    for col in range(ncols):\n",
    "        idx = row * ncols + col\n",
    "        ax = axes[row][col]\n",
    "        ax.imshow(rep[idx], cmap=\"bwr\", vmin=-1, vmax=1)\n",
    "        ax.set_aspect(\"equal\")\n",
    "        ax.set_xticks([])\n",
    "        ax.set_yticks([])"
   ]
  },
  {
   "cell_type": "markdown",
   "metadata": {},
   "source": [
    "## Calculate physically irreducible representation\n",
    "For strain tensors, we need to consider representation over real number $\\mathbb{R}$.\n",
    "The `spgrep.get_crystallographic_pointgroup_irreps_from_symmetry` with `real=True` returns all unitary irreps over real number $\\mathbb{R}$ (also called as *physically irreducible representation*)."
   ]
  },
  {
   "cell_type": "code",
   "execution_count": 6,
   "metadata": {},
   "outputs": [],
   "source": [
    "irreps = get_crystallographic_pointgroup_irreps_from_symmetry(rotations, real=True)"
   ]
  },
  {
   "cell_type": "markdown",
   "metadata": {},
   "source": [
    "Basis functions for each irrep can be obtained by `spgrep.representation.project_to_irrep`:"
   ]
  },
  {
   "cell_type": "code",
   "execution_count": 7,
   "metadata": {},
   "outputs": [],
   "source": [
    "all_basis = []\n",
    "for irrep in irreps:\n",
    "    list_basis = project_to_irrep(rep, irrep)\n",
    "    for basis in list_basis:\n",
    "        all_basis.append(basis)"
   ]
  },
  {
   "cell_type": "markdown",
   "metadata": {},
   "source": [
    "We can confirm the representation $\\Gamma$ is decomposed to three irreps: a one-dimensional, a two-dimensional, and a three-dimensional ones."
   ]
  },
  {
   "cell_type": "code",
   "execution_count": 8,
   "metadata": {},
   "outputs": [
    {
     "data": {
      "image/png": "[encoded data removed]",
      "text/plain": [
       "<Figure size 1728x576 with 48 Axes>"
      ]
     },
     "metadata": {},
     "output_type": "display_data"
    }
   ],
   "source": [
    "fig, axes = plt.subplots(nrows, ncols, figsize=(2 * ncols, 2 * nrows))\n",
    "for row in range(nrows):\n",
    "    for col in range(ncols):\n",
    "        idx = row * ncols + col\n",
    "        ax = axes[row][col]\n",
    "        rep_transformed = np.concatenate(all_basis) @ rep[idx] @ np.concatenate(all_basis).T\n",
    "        ax.imshow(rep_transformed, cmap=\"bwr\", vmin=-1, vmax=1, aspect=\"equal\")\n",
    "        ax.set_xticks([])\n",
    "        ax.set_yticks([])\n",
    "\n",
    "        ax.set_xticks([0.5, 2.5], minor=True)\n",
    "        ax.set_yticks([0.5, 2.5], minor=True)\n",
    "        ax.grid(which=\"minor\", linewidth=1)\n",
    "\n",
    "plt.tight_layout()"
   ]
  },
  {
   "cell_type": "markdown",
   "metadata": {},
   "source": [
    "## Calculate symmetry-adapted tensors"
   ]
  },
  {
   "cell_type": "code",
   "execution_count": 9,
   "metadata": {},
   "outputs": [
    {
     "name": "stdout",
     "output_type": "stream",
     "text": [
      "Rank=1: 1\n",
      "Rank=2: 3\n",
      "Rank=3: 6\n",
      "Rank=4: 11\n"
     ]
    }
   ],
   "source": [
    "expects = [1, 3, 6, 11]\n",
    "for rank, expect in zip(range(1, len(expects) + 1), expects):\n",
    "    tensors = get_symmetry_adapted_tensors(rep, rotations, rank, real=True)\n",
    "    sym_tensors = apply_intrinsic_symmetry(tensors)\n",
    "    print(f\"Rank={rank}: {len(sym_tensors)}\")\n",
    "    assert len(sym_tensors) == expect"
   ]
  }
 ],
 "metadata": {
  "kernelspec": {
   "display_name": "Python 3.10.4 64-bit ('spgrep')",
   "language": "python",
   "name": "python3"
  },
  "language_info": {
   "codemirror_mode": {
    "name": "ipython",
    "version": 3
   },
   "file_extension": ".py",
   "mimetype": "text/x-python",
   "name": "python",
   "nbconvert_exporter": "python",
   "pygments_lexer": "ipython3",
   "version": "3.10.4"
  },
  "orig_nbformat": 4,
  "vscode": {
   "interpreter": {
    "hash": "88c77d0dd5409a9a505b149d1d516cb944fb2ee79f549abf35dc2e7bd6c12498"
   }
  }
 },
 "nbformat": 4,
 "nbformat_minor": 2
}
