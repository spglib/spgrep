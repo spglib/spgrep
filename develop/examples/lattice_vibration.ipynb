{
 "cells": [
  {
   "cell_type": "markdown",
   "metadata": {},
   "source": [
    "# Application of space-group irreps to lattice vibration\n",
    "\n",
    "This example shows how to prepare representation matrix of atomic displacements by space group, and block-diagonalize dynamical matrix for harmonic lattice vibration only from symmetry."
   ]
  },
  {
   "cell_type": "markdown",
   "metadata": {},
   "source": [
    "## Import modules"
   ]
  },
  {
   "cell_type": "markdown",
   "metadata": {},
   "source": []
  },
  {
   "cell_type": "code",
   "execution_count": 1,
   "metadata": {},
   "outputs": [
    {
     "name": "stdout",
     "output_type": "stream",
     "text": [
      "spgrep==0.3.4.dev177+gd763494\n"
     ]
    }
   ],
   "source": [
    "from pathlib import Path\n",
    "\n",
    "import phonopy\n",
    "import numpy as np\n",
    "import matplotlib.pyplot as plt\n",
    "import seaborn as sns\n",
    "\n",
    "import spgrep\n",
    "from spgrep import get_spacegroup_irreps\n",
    "from spgrep.representation import check_spacegroup_representation, project_to_irrep\n",
    "\n",
    "print(f\"spgrep=={spgrep.__version__}\")"
   ]
  },
  {
   "cell_type": "code",
   "execution_count": 2,
   "metadata": {},
   "outputs": [],
   "source": [
    "sns.set_context(\"poster\")"
   ]
  },
  {
   "cell_type": "markdown",
   "metadata": {},
   "source": [
    "## Prepare space-group operations and representation\n",
    "\n",
    "We consider lattice vibration of Perovskite structure ($Pm\\overline{3}m$) at X point."
   ]
  },
  {
   "cell_type": "code",
   "execution_count": 3,
   "metadata": {},
   "outputs": [],
   "source": [
    "# Perovskite structure: Pm-3m (No. 221)\n",
    "a = 3.986\n",
    "lattice = np.array(\n",
    "    [\n",
    "        [a, 0, 0],\n",
    "        [0, a, 0],\n",
    "        [0, 0, a],\n",
    "    ]\n",
    ")\n",
    "positions = np.array(\n",
    "    [\n",
    "        [0, 0.5, 0.5],  # O(3c)\n",
    "        [0.5, 0, 0.5],  # O(3c)\n",
    "        [0.5, 0.5, 0],  # O(3c)\n",
    "        [0.5, 0.5, 0.5],  # Ti(1b)\n",
    "        [0, 0, 0],  # Ba(1a)\n",
    "    ]\n",
    ")\n",
    "numbers = [0, 0, 0, 1, 2]\n",
    "\n",
    "qpoint = [0.5, 0, 0]  # X point (with primitive cell)"
   ]
  },
  {
   "cell_type": "markdown",
   "metadata": {},
   "source": [
    "Irreps of the space group is obtained by `spgrep.get_spacegroup_irreps`:"
   ]
  },
  {
   "cell_type": "code",
   "execution_count": 4,
   "metadata": {},
   "outputs": [],
   "source": [
    "irreps, rotations, translations, mapping_little_group = get_spacegroup_irreps(\n",
    "    lattice, positions, numbers, qpoint\n",
    ")\n",
    "\n",
    "# Sanity check if `irreps` are representation for space group\n",
    "little_rotations = rotations[mapping_little_group]\n",
    "little_translations = translations[mapping_little_group]\n",
    "for irrep in irreps:\n",
    "    assert check_spacegroup_representation(little_rotations, little_translations, qpoint, irrep)"
   ]
  },
  {
   "cell_type": "markdown",
   "metadata": {},
   "source": [
    "Let $u_{\\mu}(l \\kappa)$ be a $\\mu$-direction atomic displacement of the $\\kappa$-th atom in the $l$-th unit cell.\n",
    "We consider the fourier transformation of $u_{\\mu}(l \\kappa)$,\n",
    "\n",
    "$$\n",
    "  \\mathbf{u}(\\kappa; \\mathbf{q})\n",
    "    := \\sqrt{\\frac{M_{\\kappa}}{N}} \\sum_{l} \\mathbf{u}(\\mathbf{r}(l\\kappa)) e^{ i \\mathbf{q} \\cdot \\mathbf{r}(l) },\n",
    "$$\n",
    "\n",
    "where $N$ is number of lattice points in a supercell, and $M_{\\kappa}$ is mass of the $\\kappa$-th atom.\n",
    "Let $\\mathbf{r}(l\\kappa)$ be equilibrium position of the $\\kappa$-th atom in the $l$-th unit cell.\n",
    "The fourier transformation of $u_{\\mu}(l \\kappa)$ forms representation of space group $\\mathcal{G}$ [^1] as\n",
    "\n",
    "$$\n",
    "  g u_{\\mu}(\\kappa; \\mathbf{q})\n",
    "    = \\sum_{\\kappa'\\mu'} u_{\\mu'}(\\kappa'; \\mathbf{R}_{g} \\mathbf{q} ) \\Gamma_{\\kappa'\\mu'; \\kappa\\mu}^{\\mathbf{q}}(g)\n",
    "    \\quad (g \\in \\mathcal{G}),\n",
    "$$\n",
    "\n",
    "where $\\mathbf{R}_{g}$ represents rotation part of $g$, and\n",
    "\n",
    "$$\n",
    "  \\Gamma_{\\kappa'\\mu'; \\kappa\\mu}^{\\mathbf{q}}(g)\n",
    "    := \\exp \\left( -i \\mathbf{R}_{g} \\mathbf{q} \\cdot (g \\mathbf{r}(0\\kappa)) - \\mathbf{r}(\\mathbf{0}\\,g\\kappa) \\right) [\\mathbf{R}_{g}]_{\\mu'\\mu} \\delta_{ g\\kappa, \\kappa' }.\n",
    "$$\n",
    "\n",
    "[^1]: A. A. Maradudin and S. H. Vosko, Rev. Mod. Phys. 40, 1–37 (1968)."
   ]
  },
  {
   "cell_type": "code",
   "execution_count": 5,
   "metadata": {},
   "outputs": [],
   "source": [
    "def get_displacements_representation(\n",
    "    lattice,\n",
    "    positions,\n",
    "    little_rotations,\n",
    "    little_translations,\n",
    "    qpoint,\n",
    "):\n",
    "    r\"\"\"Compute representation matrix for fourier-transformed displacements.\n",
    "\n",
    "    .. math::\n",
    "       \\\\Gamma_{\\\\kappa'\\\\mu'; \\\\kappa\\\\mu}^{\\\\mathbf{q}}(g) := \\\\exp \\\\left( -i \\\\mathbf{R}_{g} \\\\mathbf{q} \\\\cdot \\\\mathbf{h}_{g}(\\\\kappa) \\\\right) [\\\\mathbf{R}_{g}]_{\\\\mu'\\\\mu} \\\\delta_{ g\\\\kappa, \\\\kappa' }\n",
    "    \"\"\"\n",
    "    little_order = len(little_rotations)\n",
    "    num_atoms = len(positions)\n",
    "\n",
    "    # Operation-`i` moves atom-`kappa` to `permutations[i, kappa]`\n",
    "    permutations = np.zeros((little_order, num_atoms), dtype=int)\n",
    "    for i, (Ri, vi) in enumerate(zip(little_rotations, little_translations)):\n",
    "        for kappa, position in enumerate(positions):\n",
    "            new_pos = np.remainder(Ri @ position + vi, 1)\n",
    "            for kappa2, position2 in enumerate(positions):\n",
    "                if np.allclose(position2, new_pos):\n",
    "                    permutations[i, kappa] = kappa2\n",
    "                    break\n",
    "\n",
    "    shifts = np.zeros((little_order, num_atoms, 3))\n",
    "    for i, (Ri, vi) in enumerate(zip(little_rotations, little_translations)):\n",
    "        perm_i = permutations[i]\n",
    "        shifts[i] = positions @ Ri.T + vi[None, :] - positions[perm_i]\n",
    "\n",
    "    perm_rep = np.zeros((little_order, num_atoms, num_atoms), dtype=np.complex128)\n",
    "    for i, Ri in enumerate(little_rotations):\n",
    "        for kappa in range(num_atoms):\n",
    "            kappa2 = permutations[i, kappa]\n",
    "            perm_rep[i, kappa2, kappa] = np.exp(\n",
    "                -2j * np.pi * np.dot(Ri.T @ qpoint, shifts[i, kappa])\n",
    "            )\n",
    "\n",
    "    # Rotation matrix in cartesian (order, 3, 3)\n",
    "    A = np.transpose(lattice)  # column-wise lattice vectors\n",
    "    Ainv = np.linalg.inv(A)\n",
    "    rotation_rep = np.array([A @ r @ Ainv for r in little_rotations], dtype=np.complex128)\n",
    "\n",
    "    rep = np.einsum(\"ipq,iab->ipaqb\", perm_rep, rotation_rep, optimize=\"greedy\")\n",
    "    return rep.reshape(-1, num_atoms * 3, num_atoms * 3)\n",
    "\n",
    "\n",
    "rep = get_displacements_representation(\n",
    "    lattice, positions, little_rotations, little_translations, qpoint\n",
    ")"
   ]
  },
  {
   "cell_type": "markdown",
   "metadata": {},
   "source": [
    "The order of the little co-group at X point is 16, and the atomic displacements are represented by 15 components (x,y,z directions for 5 atoms).\n",
    "Thus, shape of `rep` is `(16, 15, 15)`."
   ]
  },
  {
   "cell_type": "code",
   "execution_count": 6,
   "metadata": {},
   "outputs": [
    {
     "data": {
      "text/plain": [
       "(16, 15, 15)"
      ]
     },
     "execution_count": 6,
     "metadata": {},
     "output_type": "execute_result"
    }
   ],
   "source": [
    "rep.shape"
   ]
  },
  {
   "cell_type": "code",
   "execution_count": 7,
   "metadata": {},
   "outputs": [
    {
     "data": {
      "image/png": "[encoded data removed]",
      "text/plain": [
       "<Figure size 1600x400 with 16 Axes>"
      ]
     },
     "metadata": {},
     "output_type": "display_data"
    }
   ],
   "source": [
    "nrows = 2\n",
    "ncols = 8\n",
    "fig, axes = plt.subplots(nrows, ncols, figsize=(2 * ncols, 2 * nrows))\n",
    "for row in range(nrows):\n",
    "    for col in range(ncols):\n",
    "        idx = row * ncols + col\n",
    "        ax = axes[row][col]\n",
    "        ax.imshow(np.abs(rep[idx]), cmap=\"bwr\", vmin=-1, vmax=1)\n",
    "        ax.set_aspect(\"equal\")\n",
    "        ax.set_xticks([])\n",
    "        ax.set_yticks([])"
   ]
  },
  {
   "cell_type": "markdown",
   "metadata": {},
   "source": [
    "## Load dynamical matrix from PhononDB\n",
    "\n",
    "Next, we consider to construct a projection operator, and block-diagonalize dynamical matrix at X point.\n",
    "We use a phonon calculation of Perovskite-BaTiO3 in [PhononDB](http://phonondb.mtl.kyoto-u.ac.jp/ph20180417/d002/mp-2998.html)."
   ]
  },
  {
   "cell_type": "code",
   "execution_count": 8,
   "metadata": {},
   "outputs": [],
   "source": [
    "# http://phonondb.mtl.kyoto-u.ac.jp/xz-files/phonopy_mp-2998.yaml.xz\n",
    "path = Path().resolve().parent.parent / \"examples\" / \"phonopy_mp-2998.yaml.xz\"\n",
    "ph = phonopy.load(path)\n",
    "ph.dynamical_matrix.run(qpoint)\n",
    "dynamical_matrix = ph.dynamical_matrix.dynamical_matrix"
   ]
  },
  {
   "cell_type": "code",
   "execution_count": 9,
   "metadata": {},
   "outputs": [
    {
     "data": {
      "image/png": "[encoded data removed]",
      "text/plain": [
       "<Figure size 1600x400 with 1 Axes>"
      ]
     },
     "metadata": {},
     "output_type": "display_data"
    }
   ],
   "source": [
    "fig, ax = plt.subplots(figsize=(2 * ncols, 2 * nrows))\n",
    "ax.imshow(np.abs(dynamical_matrix), cmap=\"bwr\", vmin=-1.5, vmax=1.5)\n",
    "ax.set_xticks([])\n",
    "ax.set_yticks([])\n",
    "plt.show()"
   ]
  },
  {
   "cell_type": "markdown",
   "metadata": {},
   "source": [
    "## Apply projection operator and block-diagonalize dynamical matrix"
   ]
  },
  {
   "cell_type": "code",
   "execution_count": 10,
   "metadata": {},
   "outputs": [
    {
     "name": "stdout",
     "output_type": "stream",
     "text": [
      "2 basis vectors for irrep with (16, 1, 1)\n",
      "0 basis vectors for irrep with (16, 1, 1)\n",
      "0 basis vectors for irrep with (16, 1, 1)\n",
      "2 basis vectors for irrep with (16, 1, 1)\n",
      "3 basis vectors for irrep with (16, 2, 2)\n",
      "2 basis vectors for irrep with (16, 2, 2)\n",
      "1 basis vectors for irrep with (16, 1, 1)\n",
      "0 basis vectors for irrep with (16, 1, 1)\n",
      "0 basis vectors for irrep with (16, 1, 1)\n",
      "0 basis vectors for irrep with (16, 1, 1)\n"
     ]
    },
    {
     "data": {
      "image/png": "[encoded data removed]",
      "text/plain": [
       "<Figure size 1600x400 with 1 Axes>"
      ]
     },
     "metadata": {},
     "output_type": "display_data"
    }
   ],
   "source": [
    "all_basis = []\n",
    "for irrep in irreps:\n",
    "    list_basis = project_to_irrep(rep, irrep)\n",
    "    print(f\"{len(list_basis)} basis vectors for irrep with {irrep.shape}\")\n",
    "    all_basis.extend(list_basis)\n",
    "\n",
    "blocked_dynamical_matrix = (\n",
    "    np.concatenate(all_basis) @ dynamical_matrix @ np.conj(np.concatenate(all_basis)).T\n",
    ")\n",
    "\n",
    "fig, ax = plt.subplots(figsize=(2 * ncols, 2 * nrows))\n",
    "ax.imshow(np.abs(blocked_dynamical_matrix), cmap=\"bwr\", vmin=-1.5, vmax=1.5)\n",
    "ax.set_xticks([])\n",
    "ax.set_yticks([])\n",
    "ax.set_xticks([1.5, 3.5, 9.5, 13.5], minor=True)\n",
    "ax.set_yticks([1.5, 3.5, 9.5, 13.5], minor=True)\n",
    "ax.grid(which=\"minor\", linewidth=1)\n",
    "plt.show()"
   ]
  },
  {
   "cell_type": "code",
   "execution_count": null,
   "metadata": {},
   "outputs": [],
   "source": []
  }
 ],
 "metadata": {
  "kernelspec": {
   "display_name": "Python 3.10.4 64-bit ('spgrep')",
   "language": "python",
   "name": "python3"
  },
  "language_info": {
   "codemirror_mode": {
    "name": "ipython",
    "version": 3
   },
   "file_extension": ".py",
   "mimetype": "text/x-python",
   "name": "python",
   "nbconvert_exporter": "python",
   "pygments_lexer": "ipython3",
   "version": "3.11.9"
  },
  "vscode": {
   "interpreter": {
    "hash": "88c77d0dd5409a9a505b149d1d516cb944fb2ee79f549abf35dc2e7bd6c12498"
   }
  }
 },
 "nbformat": 4,
 "nbformat_minor": 2
}
